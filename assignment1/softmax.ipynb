{
 "cells": [
  {
   "cell_type": "markdown",
   "id": "e2c3cfa1",
   "metadata": {
    "tags": [
     "pdf-title"
    ]
   },
   "source": [
    "# Softmax exercise\n",
    "\n",
    "*Complete and hand in this completed worksheet (including its outputs and any supporting code outside of the worksheet) with your assignment submission. For more details see the [assignments page](http://vision.stanford.edu/teaching/cs231n/assignments.html) on the course website.*\n",
    "\n",
    "This exercise is analogous to the SVM exercise. You will:\n",
    "\n",
    "- implement a fully-vectorized **loss function** for the Softmax classifier\n",
    "- implement the fully-vectorized expression for its **analytic gradient**\n",
    "- **check your implementation** with numerical gradient\n",
    "- use a validation set to **tune the learning rate and regularization** strength\n",
    "- **optimize** the loss function with **SGD**\n",
    "- **visualize** the final learned weights\n"
   ]
  },
  {
   "cell_type": "code",
   "execution_count": 1,
   "id": "c55a72bf",
   "metadata": {
    "tags": [
     "pdf-ignore"
    ]
   },
   "outputs": [],
   "source": [
    "import random\n",
    "import numpy as np\n",
    "from cs231n.data_utils import load_CIFAR10\n",
    "import matplotlib.pyplot as plt\n",
    "\n",
    "%matplotlib inline\n",
    "plt.rcParams['figure.figsize'] = (10.0, 8.0) # set default size of plots\n",
    "plt.rcParams['image.interpolation'] = 'nearest'\n",
    "plt.rcParams['image.cmap'] = 'gray'\n",
    "\n",
    "# for auto-reloading extenrnal modules\n",
    "# see http://stackoverflow.com/questions/1907993/autoreload-of-modules-in-ipython\n",
    "%load_ext autoreload\n",
    "%autoreload 2"
   ]
  },
  {
   "cell_type": "code",
   "execution_count": 2,
   "id": "b99594ec",
   "metadata": {
    "tags": [
     "pdf-ignore"
    ]
   },
   "outputs": [
    {
     "name": "stdout",
     "output_type": "stream",
     "text": [
      "Train data shape:  (49000, 3073)\n",
      "Train labels shape:  (49000,)\n",
      "Validation data shape:  (1000, 3073)\n",
      "Validation labels shape:  (1000,)\n",
      "Test data shape:  (1000, 3073)\n",
      "Test labels shape:  (1000,)\n",
      "dev data shape:  (500, 3073)\n",
      "dev labels shape:  (500,)\n"
     ]
    }
   ],
   "source": [
    "def get_CIFAR10_data(num_training=49000, num_validation=1000, num_test=1000, num_dev=500):\n",
    "   \"\"\"\n",
    "   Load the CIFAR-10 dataset from disk and perform preprocessing to prepare\n",
    "   it for the linear classifier. These are the same steps as we used for the\n",
    "   SVM, but condensed to a single function.  \n",
    "   \"\"\"\n",
    "   # Load the raw CIFAR-10 data\n",
    "   cifar10_dir = 'cs231n/datasets/cifar-10-batches-py'\n",
    "   \n",
    "   # Cleaning up variables to prevent loading data multiple times (which may cause memory issue)\n",
    "   try:\n",
    "      del X_train, y_train\n",
    "      del X_test, y_test\n",
    "      print('Clear previously loaded data.')\n",
    "   except:\n",
    "      pass\n",
    "\n",
    "   X_train, y_train, X_test, y_test = load_CIFAR10(cifar10_dir)\n",
    "   \n",
    "   # subsample the data\n",
    "   mask = list(range(num_training, num_training + num_validation))\n",
    "   X_val = X_train[mask]\n",
    "   y_val = y_train[mask]\n",
    "   mask = list(range(num_training))\n",
    "   X_train = X_train[mask]\n",
    "   y_train = y_train[mask]\n",
    "   mask = list(range(num_test))\n",
    "   X_test = X_test[mask]\n",
    "   y_test = y_test[mask]\n",
    "   mask = np.random.choice(num_training, num_dev, replace=False)\n",
    "   X_dev = X_train[mask]\n",
    "   y_dev = y_train[mask]\n",
    "   \n",
    "   # Preprocessing: reshape the image data into rows\n",
    "   X_train = np.reshape(X_train, (X_train.shape[0], -1))\n",
    "   X_val = np.reshape(X_val, (X_val.shape[0], -1))\n",
    "   X_test = np.reshape(X_test, (X_test.shape[0], -1))\n",
    "   X_dev = np.reshape(X_dev, (X_dev.shape[0], -1))\n",
    "   \n",
    "   # Normalize the data: subtract the mean image\n",
    "   mean_image = np.mean(X_train, axis = 0)\n",
    "   X_train -= mean_image\n",
    "   X_val -= mean_image\n",
    "   X_test -= mean_image\n",
    "   X_dev -= mean_image\n",
    "   \n",
    "   # add bias dimension and transform into columns\n",
    "   X_train = np.hstack([X_train, np.ones((X_train.shape[0], 1))])\n",
    "   X_val = np.hstack([X_val, np.ones((X_val.shape[0], 1))])\n",
    "   X_test = np.hstack([X_test, np.ones((X_test.shape[0], 1))])\n",
    "   X_dev = np.hstack([X_dev, np.ones((X_dev.shape[0], 1))])\n",
    "   \n",
    "   return X_train, y_train, X_val, y_val, X_test, y_test, X_dev, y_dev\n",
    "\n",
    "\n",
    "# Invoke the above function to get our data.\n",
    "X_train, y_train, X_val, y_val, X_test, y_test, X_dev, y_dev = get_CIFAR10_data()\n",
    "print('Train data shape: ', X_train.shape)\n",
    "print('Train labels shape: ', y_train.shape)\n",
    "print('Validation data shape: ', X_val.shape)\n",
    "print('Validation labels shape: ', y_val.shape)\n",
    "print('Test data shape: ', X_test.shape)\n",
    "print('Test labels shape: ', y_test.shape)\n",
    "print('dev data shape: ', X_dev.shape)\n",
    "print('dev labels shape: ', y_dev.shape)"
   ]
  },
  {
   "cell_type": "markdown",
   "id": "2713b7f4",
   "metadata": {},
   "source": [
    "## Softmax Classifier\n",
    "\n",
    "Your code for this section will all be written inside `cs231n/classifiers/softmax.py`.\n"
   ]
  },
  {
   "cell_type": "code",
   "execution_count": 3,
   "id": "6168f67e",
   "metadata": {},
   "outputs": [
    {
     "name": "stdout",
     "output_type": "stream",
     "text": [
      "loss: 2.380807\n",
      "sanity check: 2.302585\n"
     ]
    }
   ],
   "source": [
    "# First implement the naive softmax loss function with nested loops.\n",
    "# Open the file cs231n/classifiers/softmax.py and implement the\n",
    "# softmax_loss_naive function.\n",
    "\n",
    "from cs231n.classifiers.softmax import softmax_loss_naive\n",
    "import time\n",
    "\n",
    "# Generate a random softmax weight matrix and use it to compute the loss.\n",
    "W = np.random.randn(3073, 10) * 0.0001\n",
    "loss, grad = softmax_loss_naive(W, X_dev, y_dev, 0.0)\n",
    "\n",
    "# As a rough sanity check, our loss should be something close to -log(0.1).\n",
    "print('loss: %f' % loss)\n",
    "print('sanity check: %f' % (-np.log(0.1)))"
   ]
  },
  {
   "cell_type": "code",
   "execution_count": 6,
   "id": "df072c50",
   "metadata": {},
   "outputs": [
    {
     "data": {
      "text/plain": [
       "array([8, 9, 6, 3, 6, 2, 6, 1, 4, 2, 8, 1, 8, 2, 5, 6, 2, 5, 2, 9, 6, 0,\n",
       "       1, 2, 8, 7, 3, 5, 9, 8, 2, 5, 2, 2, 4, 7, 8, 7, 2, 7, 6, 9, 7, 2,\n",
       "       6, 6, 3, 6, 9, 7, 6, 1, 3, 2, 2, 5, 9, 0, 5, 3, 7, 9, 7, 4, 8, 2,\n",
       "       5, 2, 0, 6, 6, 1, 3, 7, 9, 6, 9, 5, 9, 4, 2, 4, 0, 1, 1, 4, 0, 0,\n",
       "       7, 1, 6, 3, 9, 6, 1, 2, 2, 7, 0, 4, 2, 2, 0, 8, 9, 0, 3, 4, 0, 8,\n",
       "       1, 6, 8, 6, 0, 9, 7, 8, 4, 1, 5, 9, 9, 5, 9, 0, 7, 8, 2, 5, 9, 3,\n",
       "       6, 3, 5, 2, 4, 7, 1, 7, 1, 3, 6, 3, 2, 2, 9, 2, 5, 0, 5, 8, 2, 3,\n",
       "       0, 4, 9, 5, 5, 3, 3, 1, 0, 9, 6, 7, 1, 4, 2, 5, 2, 6, 1, 1, 5, 7,\n",
       "       5, 5, 4, 6, 7, 9, 6, 8, 4, 7, 4, 1, 5, 6, 3, 1, 4, 2, 1, 8, 7, 9,\n",
       "       2, 0, 9, 2, 2, 0, 9, 9, 2, 5, 3, 3, 5, 5, 0, 3, 3, 6, 5, 0, 9, 8,\n",
       "       3, 4, 8, 4, 9, 2, 0, 2, 9, 8, 3, 7, 8, 9, 5, 6, 0, 2, 2, 2, 3, 0,\n",
       "       7, 4, 6, 4, 2, 2, 2, 5, 2, 2, 9, 7, 7, 2, 2, 6, 3, 6, 8, 4, 6, 6,\n",
       "       4, 8, 0, 3, 2, 3, 8, 6, 7, 3, 1, 7, 3, 1, 9, 2, 4, 3, 6, 3, 7, 7,\n",
       "       5, 0, 8, 1, 5, 9, 6, 0, 8, 4, 3, 4, 7, 6, 2, 6, 7, 3, 7, 4, 5, 8,\n",
       "       9, 4, 9, 6, 3, 4, 0, 0, 3, 4, 8, 6, 5, 8, 7, 1, 7, 0, 9, 0, 8, 2,\n",
       "       6, 9, 0, 0, 4, 2, 1, 3, 4, 0, 6, 1, 9, 2, 0, 8, 3, 2, 4, 9, 4, 8,\n",
       "       3, 3, 4, 5, 5, 6, 1, 0, 6, 7, 9, 8, 3, 9, 8, 3, 7, 0, 0, 8, 9, 3,\n",
       "       1, 5, 1, 8, 3, 3, 9, 2, 8, 7, 1, 7, 8, 1, 9, 1, 1, 2, 3, 0, 7, 4,\n",
       "       0, 6, 6, 6, 0, 0, 1, 2, 7, 7, 8, 1, 7, 5, 7, 6, 6, 3, 3, 3, 1, 6,\n",
       "       8, 7, 0, 3, 7, 9, 3, 3, 4, 6, 6, 0, 7, 7, 4, 0, 4, 8, 2, 9, 9, 6,\n",
       "       2, 0, 9, 7, 3, 5, 1, 6, 4, 2, 5, 2, 5, 2, 6, 6, 1, 8, 1, 8, 1, 9,\n",
       "       7, 6, 5, 5, 4, 0, 0, 9, 1, 6, 4, 5, 5, 5, 9, 9, 4, 7, 2, 7, 8, 1,\n",
       "       7, 5, 9, 2, 2, 2, 2, 8, 2, 8, 2, 0, 3, 3, 4, 9])"
      ]
     },
     "execution_count": 6,
     "metadata": {},
     "output_type": "execute_result"
    }
   ],
   "source": []
  },
  {
   "cell_type": "markdown",
   "id": "b35bc604",
   "metadata": {
    "tags": [
     "pdf-inline"
    ]
   },
   "source": [
    "**Inline Question 1**\n",
    "\n",
    "Why do we expect our loss to be close to -log(0.1)? Explain briefly.**\n",
    "\n",
    "$\\color{blue}{\\textit Your Answer:}$ \n",
    "\n",
    "因为一共有十个类别，这里的W是随机的，每个类别的概率都是0.1，所以期望的损失是-log(0.1)+$\\delta$，在这里$\\delta$是一个很小的数。\n"
   ]
  },
  {
   "cell_type": "code",
   "execution_count": 7,
   "id": "b7bef674",
   "metadata": {},
   "outputs": [
    {
     "name": "stdout",
     "output_type": "stream",
     "text": [
      "numerical: -0.816372 analytic: -0.816372, relative error: 1.871143e-08\n",
      "numerical: 0.617356 analytic: 0.617356, relative error: 9.017317e-10\n",
      "numerical: 0.827474 analytic: 0.827474, relative error: 3.169708e-08\n",
      "numerical: -0.201096 analytic: -0.201096, relative error: 2.220222e-08\n",
      "numerical: -2.610780 analytic: -2.610780, relative error: 1.678709e-08\n",
      "numerical: -2.662679 analytic: -2.662679, relative error: 3.176142e-08\n",
      "numerical: -2.947557 analytic: -2.947557, relative error: 2.720811e-08\n",
      "numerical: 0.665066 analytic: 0.665066, relative error: 4.393405e-08\n",
      "numerical: -3.821246 analytic: -3.821246, relative error: 6.826369e-09\n",
      "numerical: -4.828405 analytic: -4.828405, relative error: 2.079720e-09\n",
      "numerical: -0.845440 analytic: -0.845440, relative error: 2.950323e-08\n",
      "numerical: 0.190942 analytic: 0.190942, relative error: 3.615511e-07\n",
      "numerical: 0.964019 analytic: 0.964019, relative error: 1.705095e-08\n",
      "numerical: -1.703425 analytic: -1.703425, relative error: 1.343294e-08\n",
      "numerical: -5.330318 analytic: -5.330318, relative error: 2.582503e-09\n",
      "numerical: -0.700096 analytic: -0.700096, relative error: 9.959328e-08\n",
      "numerical: 0.996210 analytic: 0.996210, relative error: 1.032963e-08\n",
      "numerical: 0.941664 analytic: 0.941664, relative error: 1.044886e-08\n",
      "numerical: 0.142581 analytic: 0.142581, relative error: 2.968854e-07\n",
      "numerical: 2.158032 analytic: 2.158032, relative error: 2.195445e-08\n"
     ]
    }
   ],
   "source": [
    "# Complete the implementation of softmax_loss_naive and implement a (naive)\n",
    "# version of the gradient that uses nested loops.\n",
    "loss, grad = softmax_loss_naive(W, X_dev, y_dev, 0.0)\n",
    "\n",
    "# As we did for the SVM, use numeric gradient checking as a debugging tool.\n",
    "# The numeric gradient should be close to the analytic gradient.\n",
    "from cs231n.gradient_check import grad_check_sparse\n",
    "f = lambda w: softmax_loss_naive(w, X_dev, y_dev, 0.0)[0]\n",
    "grad_numerical = grad_check_sparse(f, W, grad, 10)\n",
    "\n",
    "# similar to SVM case, do another gradient check with regularization\n",
    "loss, grad = softmax_loss_naive(W, X_dev, y_dev, 5e1)\n",
    "f = lambda w: softmax_loss_naive(w, X_dev, y_dev, 5e1)[0]\n",
    "grad_numerical = grad_check_sparse(f, W, grad, 10)"
   ]
  },
  {
   "cell_type": "code",
   "execution_count": 8,
   "id": "3994f8a3",
   "metadata": {},
   "outputs": [
    {
     "name": "stdout",
     "output_type": "stream",
     "text": [
      "naive loss: 2.380807e+00 computed in 0.132914s\n",
      "vectorized loss: 2.380807e+00 computed in 0.003851s\n",
      "Loss difference: 0.000000\n",
      "Gradient difference: 0.000000\n"
     ]
    }
   ],
   "source": [
    "# Now that we have a naive implementation of the softmax loss function and its gradient,\n",
    "# implement a vectorized version in softmax_loss_vectorized.\n",
    "# The two versions should compute the same results, but the vectorized version should be\n",
    "# much faster.\n",
    "tic = time.time()\n",
    "loss_naive, grad_naive = softmax_loss_naive(W, X_dev, y_dev, 0.000005)\n",
    "toc = time.time()\n",
    "print('naive loss: %e computed in %fs' % (loss_naive, toc - tic))\n",
    "\n",
    "from cs231n.classifiers.softmax import softmax_loss_vectorized\n",
    "tic = time.time()\n",
    "loss_vectorized, grad_vectorized = softmax_loss_vectorized(W, X_dev, y_dev, 0.000005)\n",
    "toc = time.time()\n",
    "print('vectorized loss: %e computed in %fs' % (loss_vectorized, toc - tic))\n",
    "\n",
    "# As we did for the SVM, we use the Frobenius norm to compare the two versions\n",
    "# of the gradient.\n",
    "grad_difference = np.linalg.norm(grad_naive - grad_vectorized, ord='fro')\n",
    "print('Loss difference: %f' % np.abs(loss_naive - loss_vectorized))\n",
    "print('Gradient difference: %f' % grad_difference)"
   ]
  },
  {
   "cell_type": "code",
   "execution_count": 11,
   "id": "bd171311",
   "metadata": {
    "tags": [
     "code"
    ],
    "test": "tuning"
   },
   "outputs": [
    {
     "name": "stderr",
     "output_type": "stream",
     "text": [
      "100%|██████████| 5/5 [01:49<00:00, 21.88s/it]"
     ]
    },
    {
     "name": "stdout",
     "output_type": "stream",
     "text": [
      "lr 1.000000e-07 reg 2.500000e+04 train accuracy: 0.349082 val accuracy: 0.355000\n",
      "lr 1.000000e-07 reg 3.125000e+04 train accuracy: 0.345367 val accuracy: 0.360000\n",
      "lr 1.000000e-07 reg 3.750000e+04 train accuracy: 0.332959 val accuracy: 0.335000\n",
      "lr 1.000000e-07 reg 4.375000e+04 train accuracy: 0.327531 val accuracy: 0.332000\n",
      "lr 1.000000e-07 reg 5.000000e+04 train accuracy: 0.330245 val accuracy: 0.343000\n",
      "lr 2.000000e-07 reg 2.500000e+04 train accuracy: 0.347673 val accuracy: 0.356000\n",
      "lr 2.000000e-07 reg 3.125000e+04 train accuracy: 0.345796 val accuracy: 0.348000\n",
      "lr 2.000000e-07 reg 3.750000e+04 train accuracy: 0.337714 val accuracy: 0.348000\n",
      "lr 2.000000e-07 reg 4.375000e+04 train accuracy: 0.331224 val accuracy: 0.349000\n",
      "lr 2.000000e-07 reg 5.000000e+04 train accuracy: 0.328857 val accuracy: 0.341000\n",
      "lr 3.000000e-07 reg 2.500000e+04 train accuracy: 0.349286 val accuracy: 0.356000\n",
      "lr 3.000000e-07 reg 3.125000e+04 train accuracy: 0.334041 val accuracy: 0.349000\n",
      "lr 3.000000e-07 reg 3.750000e+04 train accuracy: 0.336694 val accuracy: 0.347000\n",
      "lr 3.000000e-07 reg 4.375000e+04 train accuracy: 0.328571 val accuracy: 0.345000\n",
      "lr 3.000000e-07 reg 5.000000e+04 train accuracy: 0.323388 val accuracy: 0.336000\n",
      "lr 4.000000e-07 reg 2.500000e+04 train accuracy: 0.342837 val accuracy: 0.353000\n",
      "lr 4.000000e-07 reg 3.125000e+04 train accuracy: 0.337082 val accuracy: 0.344000\n",
      "lr 4.000000e-07 reg 3.750000e+04 train accuracy: 0.334041 val accuracy: 0.347000\n",
      "lr 4.000000e-07 reg 4.375000e+04 train accuracy: 0.329122 val accuracy: 0.338000\n",
      "lr 4.000000e-07 reg 5.000000e+04 train accuracy: 0.333163 val accuracy: 0.347000\n",
      "lr 5.000000e-07 reg 2.500000e+04 train accuracy: 0.349286 val accuracy: 0.361000\n",
      "lr 5.000000e-07 reg 3.125000e+04 train accuracy: 0.336551 val accuracy: 0.354000\n",
      "lr 5.000000e-07 reg 3.750000e+04 train accuracy: 0.335755 val accuracy: 0.348000\n",
      "lr 5.000000e-07 reg 4.375000e+04 train accuracy: 0.329490 val accuracy: 0.344000\n",
      "lr 5.000000e-07 reg 5.000000e+04 train accuracy: 0.326429 val accuracy: 0.339000\n",
      "best validation accuracy achieved during cross-validation: 0.361000\n"
     ]
    },
    {
     "name": "stderr",
     "output_type": "stream",
     "text": [
      "\n"
     ]
    }
   ],
   "source": [
    "# Use the validation set to tune hyperparameters (regularization strength and\n",
    "# learning rate). You should experiment with different ranges for the learning\n",
    "# rates and regularization strengths; if you are careful you should be able to\n",
    "# get a classification accuracy of over 0.35 on the validation set.\n",
    "\n",
    "from cs231n.classifiers import Softmax\n",
    "results = {}\n",
    "best_val = -1\n",
    "best_softmax = None\n",
    "\n",
    "################################################################################\n",
    "# TODO:                                                                        #\n",
    "# Use the validation set to set the learning rate and regularization strength. #\n",
    "# This should be identical to the validation that you did for the SVM; save    #\n",
    "# the best trained softmax classifer in best_softmax.                          #\n",
    "################################################################################\n",
    "\n",
    "# Provided as a reference. You may or may not want to change these hyperparameters\n",
    "learning_rates = np.linspace(1e-7, 5e-7, 5)\n",
    "regularization_strengths = np.linspace(2.5e4, 5e4, 5)\n",
    "\n",
    "# *****START OF YOUR CODE (DO NOT DELETE/MODIFY THIS LINE)*****\n",
    "import tqdm\n",
    "Trange = tqdm.tqdm(learning_rates)\n",
    "for lr in Trange:\n",
    "    for reg in regularization_strengths:\n",
    "        softmax = Softmax()\n",
    "        softmax.train(X_train, y_train, learning_rate=lr, reg=reg, num_iters=1500, verbose=False)\n",
    "        y_train_acc = np.mean(y_train == softmax.predict(X_train))\n",
    "        y_test_acc = np.mean(y_test == softmax.predict(X_test))\n",
    "        results[(lr, reg)] = (y_train_acc, y_test_acc)\n",
    "        if y_test_acc > best_val:\n",
    "            best_val = y_test_acc\n",
    "            best_softmax = softmax\n",
    "\n",
    "# *****END OF YOUR CODE (DO NOT DELETE/MODIFY THIS LINE)*****\n",
    "    \n",
    "# Print out results.\n",
    "for lr, reg in sorted(results):\n",
    "    train_accuracy, val_accuracy = results[(lr, reg)]\n",
    "    print('lr %e reg %e train accuracy: %f val accuracy: %f' % (\n",
    "                lr, reg, train_accuracy, val_accuracy))\n",
    "    \n",
    "print('best validation accuracy achieved during cross-validation: %f' % best_val)"
   ]
  },
  {
   "cell_type": "code",
   "execution_count": 13,
   "id": "f94a8f12",
   "metadata": {
    "test": "test"
   },
   "outputs": [
    {
     "name": "stdout",
     "output_type": "stream",
     "text": [
      "softmax on raw pixels final test set accuracy: 0.361000\n"
     ]
    }
   ],
   "source": [
    "# evaluate on test set\n",
    "# Evaluate the best softmax on test set\n",
    "y_test_pred = best_softmax.predict(X_test)\n",
    "test_accuracy = np.mean(y_test == y_test_pred)\n",
    "print('softmax on raw pixels final test set accuracy: %f' % (test_accuracy, ))"
   ]
  },
  {
   "cell_type": "markdown",
   "id": "7e2112ee",
   "metadata": {
    "tags": [
     "pdf-inline"
    ]
   },
   "source": [
    "**Inline Question 2** - *True or False*\n",
    "\n",
    "Suppose the overall training loss is defined as the sum of the per-datapoint loss over all training examples. It is possible to add a new datapoint to a training set that would leave the SVM loss unchanged, but this is not the case with the Softmax classifier loss.\n",
    "\n",
    "$\\color{blue}{\\textit Your Answer:}$\n",
    "\n",
    "True\n",
    "\n",
    "$\\color{blue}{\\textit Your Explanation:}$\n",
    "\n",
    "因为SVM中损失函数计算的时候如果加入的测试图片分类正确那么就没有loss了，但是softmax中不管分类是否正确都会有损失（额除非概率等于1但是应该不会）。\n"
   ]
  },
  {
   "cell_type": "code",
   "execution_count": 12,
   "id": "86d86120",
   "metadata": {},
   "outputs": [
    {
     "data": {
      "image/png": "[encoded data removed]",
      "text/plain": [
       "<Figure size 1000x800 with 10 Axes>"
      ]
     },
     "metadata": {},
     "output_type": "display_data"
    }
   ],
   "source": [
    "# Visualize the learned weights for each class\n",
    "w = best_softmax.W[:-1,:] # strip out the bias\n",
    "w = w.reshape(32, 32, 3, 10)\n",
    "\n",
    "w_min, w_max = np.min(w), np.max(w)\n",
    "\n",
    "classes = ['plane', 'car', 'bird', 'cat', 'deer', 'dog', 'frog', 'horse', 'ship', 'truck']\n",
    "for i in range(10):\n",
    "    plt.subplot(2, 5, i + 1)\n",
    "    \n",
    "    # Rescale the weights to be between 0 and 255\n",
    "    wimg = 255.0 * (w[:, :, :, i].squeeze() - w_min) / (w_max - w_min)\n",
    "    plt.imshow(wimg.astype('uint8'))\n",
    "    plt.axis('off')\n",
    "    plt.title(classes[i])"
   ]
  },
  {
   "cell_type": "code",
   "execution_count": null,
   "id": "24688f99",
   "metadata": {},
   "outputs": [],
   "source": []
  }
 ],
 "metadata": {
  "kernelspec": {
   "display_name": "python38",
   "language": "python",
   "name": "python3"
  },
  "language_info": {
   "codemirror_mode": {
    "name": "ipython",
    "version": 3
   },
   "file_extension": ".py",
   "mimetype": "text/x-python",
   "name": "python",
   "nbconvert_exporter": "python",
   "pygments_lexer": "ipython3",
   "version": "3.8.19"
  }
 },
 "nbformat": 4,
 "nbformat_minor": 5
}
